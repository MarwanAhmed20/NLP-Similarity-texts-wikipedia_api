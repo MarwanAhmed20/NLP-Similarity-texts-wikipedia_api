{
  "cells": [
    {
      "cell_type": "markdown",
      "metadata": {
        "id": "view-in-github",
        "colab_type": "text"
      },
      "source": [
        "<a href=\"https://colab.research.google.com/github/MarwanAhmed20/NLP-Similarity-texts-wikipedia_api/blob/main/Similarity_texts_using_wikipedia_dataset.ipynb\" target=\"_parent\"><img src=\"https://colab.research.google.com/assets/colab-badge.svg\" alt=\"Open In Colab\"/></a>"
      ]
    },
    {
      "cell_type": "markdown",
      "id": "f4f53028",
      "metadata": {
        "id": "f4f53028"
      },
      "source": [
        "# Import Python Libraries"
      ]
    },
    {
      "cell_type": "code",
      "execution_count": null,
      "id": "951f7e84",
      "metadata": {
        "id": "951f7e84"
      },
      "outputs": [],
      "source": [
        "import wikipediaapi\n",
        "import re\n",
        "import nltk\n",
        "from nltk.corpus import stopwords\n",
        "from nltk.stem import WordNetLemmatizer"
      ]
    },
    {
      "cell_type": "code",
      "execution_count": null,
      "id": "c1aebef2",
      "metadata": {
        "id": "c1aebef2"
      },
      "outputs": [],
      "source": [
        "from gensim.models.fasttext import FastText\n",
        "from gensim.models import Word2Vec\n",
        "\n",
        "import gensim.models.keyedvectors as word2vec"
      ]
    },
    {
      "cell_type": "markdown",
      "id": "8056bca5",
      "metadata": {
        "id": "8056bca5"
      },
      "source": [
        "# Load wikipediaapi dataset with api"
      ]
    },
    {
      "cell_type": "code",
      "execution_count": null,
      "id": "7a622314",
      "metadata": {
        "scrolled": false,
        "id": "7a622314"
      },
      "outputs": [],
      "source": [
        "# use words to load data relatied\n",
        "doc_search = [\"Car\",\"bus\",\"train\",\"ship\",\"mobile\",\"laptop\",\"personal computer\",\"xbox\",\"pop songs\",\"rap\",\"Hip-Hop\",\"folk songs\",\"sandbox games\",\"simulation games\",\"Action-adventure games\",\"Multiplayer online battle arena\",\"football\",\"basketball\",\"volleyball\",\"handball\"]\n",
        "wiki = wikipediaapi.Wikipedia(\"en\")\n",
        "\n",
        "data = []\n",
        "for doc in doc_search:\n",
        "    page = wiki.page(doc)\n",
        "    text = \"\"\n",
        "    for i in range(len(page.sections)):\n",
        "        text += page.sections[i].text\n",
        "    data.append(text)\n"
      ]
    },
    {
      "cell_type": "code",
      "execution_count": null,
      "id": "d3a4fbc8",
      "metadata": {
        "id": "d3a4fbc8",
        "outputId": "3ee9fcfa-c109-456c-cdb3-3977e761e026"
      },
      "outputs": [
        {
          "name": "stdout",
          "output_type": "stream",
          "text": [
            "David Hatch and Stephen Millward define pop music as \"a body of music which is distinguishable from popular, jazz, and folk music\".\n",
            "According to Pete Seeger, pop music is \"professional music which draws upon both folk music and fine arts music\".\n",
            "David Boyle, a music researcher, states pop music as any type of music that a person has been exposed to by the mass media. Most individuals think that pop music is just the singles charts and not the sum of all chart music. The music charts contain songs from a variety of sources, including classical, jazz, rock, and novelty songs. As a genre, pop music is seen to exist and develop separately. Therefore, the term \"pop music\" may be used to describe a distinct genre, designed to appeal to all, often characterized as \"instant singles-based music aimed at teenagers\" in contrast to rock music as \"album-based music for adults\".Pop music continuously evolves along with the term's definition. According to music writer Bill Lamb, popular music is defined as \"the music since industrialization in the 1800s that is most in line with the tastes and interests of the urban middle class.\" The term \"pop song\" was first used in 1926, in the sense of a piece of music \"having popular appeal\". Hatch and Millward indicate that many events in the history of recording in the 1920s can be seen as the birth of the modern pop music industry, including in country, blues, and hillbilly music.\n",
            "\n",
            "According to the website of The New Grove Dictionary of Music and Musicians, the term \"pop music\" \"originated in Britain in the mid-1950s as a description for rock and roll and the new youth music styles that it influenced\". The Oxford Dictionary of Music states that while pop's \"earlier meaning meant concerts appealing to a wide audience [...] since the late 1950s, however, pop has had the special meaning of non-classical mus[ic], usually in the form of songs, performed by such artists as The Beatles, The Rolling Stones, ABBA, etc.\" Grove Music Online also states that \"[...] in the early 1960s, [the term] 'pop music' competed terminologically with beat music [in England], while in the US its coverage overlapped (as it still does) with that of 'rock and roll'\".\n",
            "From about 1967, the term “pop music” was increasingly used in opposition to the term rock music, a division that gave generic significance to both terms. While rock aspired to authenticity and an expansion of the possibilities of popular music, pop was more commercial, ephemeral, and accessible. According to British musicologist Simon Frith, pop music is produced \"as a matter of enterprise not art\", and is \"designed to appeal to everyone\" but \"doesn't come from any particular place or mark off any particular taste\". Frith adds that it is \"not driven by any significant ambition except profit and commercial reward [...] and, in musical terms, it is essentially conservative\". It is, \"provided from on high (by record companies, radio programmers, and concert promoters) rather than being made from below ... Pop is not a do-it-yourself music but is professionally produced and packaged\".According to Frith, characteristics of pop music include an aim of appealing to a general audience, rather than to a particular sub-culture or ideology, and an emphasis on craftsmanship rather than formal \"artistic\" qualities. Besides, Frith also offers three identifying characteristics of pop music: light entertainment, commercial imperatives, and personal identification. Pop music grew out of a light entertainment/ easy listening tradition. Pop music is more conservative than other music genres such as folk, blues, country, and tradition. Many pop songs do not contain themes of resistance, opposition, or political themes, rather focusing more on love and relationships.  Therefore, pop music does not challenge its audiences socially, and does not cause political activism. Frith also said the main purpose of pop music is to create revenue. It is not a medium of free articulation of the people. Instead, pop music seeks to supply the nature of personal desire and achieve the instant empathy with cliche personalities, stereotypes, and melodrama that appeals to listeners. It is mostly about how much revenue pop music makes for record companies. Music scholar Timothy Warner said pop music typically has an emphasis on recording, production, and technology, rather than live performance; a tendency to reflect existing trends rather than progressive developments; and seeks to encourage dancing or uses dance-oriented rhythms.The main medium of pop music is the song, often between two and a half and three and a half minutes in length, generally marked by a consistent and noticeable rhythmic element, a mainstream style and a simple traditional structure. The structure of many popular songs is that of a verse and a chorus, the chorus serving as the portion of the track that is designed to stick in the ear through simple repetition both musically and lyrically. The chorus is often where the music builds towards and is often preceded by \"the drop\" where the bass and drum parts \"drop out\". Common variants include the verse-chorus form and the thirty-two-bar form, with a focus on melodies and catchy hooks, and a chorus that contrasts melodically, rhythmically and harmonically with the verse. The beat and the melodies tend to be simple, with limited harmonic accompaniment. The lyrics of modern pop songs typically focus on simple themes – often love and romantic relationships – although there are notable exceptions.Harmony and chord progressions in pop music are often \"that of classical European tonality, only more simple-minded.\" Clichés include the barbershop quartet-style harmony (i.e. ii – V – I) and blues scale-influenced harmony. There was a lessening of the influence of traditional views of the circle of fifths between the mid-1950s and the late 1970s, including less predominance for the dominant function.Honorific nicknames in popular music\n",
            "Origins of rock and roll\n",
            "Popular music pedagogy\n",
            "List of music genres and styles\n",
            "History of music\n",
            "Public domain music\n",
            "List of largest recorded music markets\n",
            "Music genreThe Consumption of Music and the Expression of Values: A Social Economic Explanation for the Advent of Pop Music, Wilfred Dolfsma, American Journal of Economics and Sociology, October 1999.\n"
          ]
        }
      ],
      "source": [
        "print(data[8])"
      ]
    },
    {
      "cell_type": "markdown",
      "id": "f03db776",
      "metadata": {
        "id": "f03db776"
      },
      "source": [
        "# preprocessing dataset"
      ]
    },
    {
      "cell_type": "code",
      "execution_count": null,
      "id": "acd78946",
      "metadata": {
        "id": "acd78946"
      },
      "outputs": [],
      "source": [
        "def preprocessing (text):\n",
        "    punctuations = r'''!()-[]{};:'\"\\,<>./?@#$%^&*_“'~–'''\n",
        "    for x in text.lower():\n",
        "        if x in punctuations :\n",
        "            text = text.replace(x, \"\")\n",
        "        elif x == '\\n':\n",
        "            text = text.replace(x, \" \")\n",
        "    text = text.lower()\n",
        "    text = re.sub(r'\\s+[a-zA-Z]\\s+','', text)\n",
        "    text = re.sub('[0-9]+', '', text)\n",
        "    text = text.split(' ')\n",
        "    text = [word for word in text if word not in en_stop and len(word)!= 1]\n",
        "    text= [lemmatizer.lemmatize(word) for word in text]\n",
        "    text = [x for x in text if x!='']\n",
        "    text = set(text)\n",
        "    return text"
      ]
    },
    {
      "cell_type": "code",
      "execution_count": null,
      "id": "da26b95b",
      "metadata": {
        "scrolled": false,
        "id": "da26b95b"
      },
      "outputs": [],
      "source": [
        "lemmatizer = WordNetLemmatizer()\n",
        "en_stop = set(stopwords.words('english'))\n",
        "docs = []\n",
        "for i in range(len(data)):\n",
        "    docs.append(preprocessing(data[i]))"
      ]
    },
    {
      "cell_type": "markdown",
      "id": "98ac3ea4",
      "metadata": {
        "id": "98ac3ea4"
      },
      "source": [
        "# Apply word2vec model"
      ]
    },
    {
      "cell_type": "code",
      "execution_count": null,
      "id": "a604fb6f",
      "metadata": {
        "id": "a604fb6f"
      },
      "outputs": [],
      "source": [
        "model = word2vec.KeyedVectors.load_word2vec_format('wiki-news-300d-1M.vec')"
      ]
    },
    {
      "cell_type": "code",
      "execution_count": null,
      "id": "179f6f80",
      "metadata": {
        "id": "179f6f80"
      },
      "outputs": [],
      "source": [
        "words_vector = []\n",
        "for doc in docs:\n",
        "    doc_vector = []\n",
        "    for word in doc:\n",
        "        if word in model.index_to_key:\n",
        "            doc_vector.append(model[word])\n",
        "    words_vector.append(doc_vector)"
      ]
    },
    {
      "cell_type": "code",
      "execution_count": null,
      "id": "e7a1d98b",
      "metadata": {
        "scrolled": true,
        "id": "e7a1d98b",
        "outputId": "957f17ca-837d-4302-e46c-60c2c8727f40"
      },
      "outputs": [
        {
          "name": "stdout",
          "output_type": "stream",
          "text": [
            "[-2.074e-01 -6.970e-02  3.100e-02 -8.680e-02 -8.700e-02 -6.200e-03\n",
            " -1.001e-01 -1.007e-01 -2.600e-03 -1.009e-01  2.430e-02  4.430e-02\n",
            " -2.420e-02 -5.120e-02  1.030e-02 -1.290e-02  8.420e-02  3.690e-02\n",
            "  2.716e-01  6.800e-03  3.330e-02  1.147e-01 -1.835e-01  2.570e-02\n",
            " -9.380e-02 -2.590e-02  1.340e-02 -4.710e-02  8.790e-02  8.080e-02\n",
            "  9.550e-02  4.520e-02  7.110e-02 -1.361e-01  9.960e-02 -3.040e-02\n",
            "  1.630e-02  4.110e-02 -2.210e-02 -4.450e-02 -4.260e-02  0.000e+00\n",
            " -4.180e-02  0.000e+00 -6.890e-02  1.550e-02  7.080e-02 -8.010e-02\n",
            " -9.040e-02 -1.067e-01 -1.200e-02  8.900e-02 -6.403e-01  2.470e-02\n",
            " -1.137e-01 -2.000e-02 -1.000e-04 -5.530e-02 -1.821e-01 -1.198e-01\n",
            "  1.012e-01  7.340e-02  9.240e-02  3.740e-02 -1.571e-01  1.565e-01\n",
            " -1.800e-03  6.810e-02 -9.920e-02 -2.470e-02  4.890e-02  8.720e-02\n",
            "  6.500e-02 -6.500e-03 -8.330e-02  8.210e-02  6.170e-02 -1.500e-02\n",
            " -5.530e-02  1.768e-01  5.000e-03  3.590e-02 -9.310e-02 -3.087e-01\n",
            "  1.048e-01 -3.460e-02  2.530e-02  3.130e-02 -3.905e-01  3.180e-02\n",
            "  9.100e-03  1.043e-01 -1.048e-01 -2.050e-02 -3.890e-02  1.260e-02\n",
            "  5.370e-02 -8.850e-02 -1.360e-02  2.800e-03 -1.815e-01  4.500e-02\n",
            " -1.054e-01  1.191e-01  2.632e-01  1.081e-01 -8.400e-03 -4.140e-02\n",
            "  6.600e-03  1.240e-02  5.620e-02  4.590e-02 -2.580e-02  5.410e-02\n",
            " -1.920e-01  1.283e-01  6.080e-02 -9.550e-02  3.380e-02 -2.928e-01\n",
            "  1.470e-02  9.980e-02 -7.450e-02  5.050e-02 -1.523e-01  1.989e-01\n",
            "  5.630e-02  9.370e-02  1.200e-03 -9.230e-02 -4.750e-02  1.494e-01\n",
            "  5.400e-03  8.170e-02 -7.590e-02 -4.154e-01 -6.680e-02 -1.384e-01\n",
            " -6.300e-02  1.430e-02  1.613e-01 -2.650e-01  5.620e-02  2.553e-01\n",
            " -1.320e-02 -1.051e-01  8.400e-02 -5.160e-02 -1.190e-02  3.120e-02\n",
            "  1.990e-02  2.430e-02 -6.250e-02  6.180e-02 -1.139e-01  1.050e-02\n",
            " -1.370e-02  4.290e-02 -3.360e-02  1.850e-02  4.240e-02 -1.041e-01\n",
            "  5.260e-02 -1.341e-01 -2.312e-01 -9.230e-02  2.567e-01  6.500e-02\n",
            "  9.250e-02  4.790e-02 -1.515e-01  5.030e-02 -7.740e-02  3.340e-02\n",
            " -6.300e-03 -1.600e-02  2.392e-01 -1.697e-01  1.270e-02  8.210e-02\n",
            " -9.280e-02 -4.960e-02 -6.520e-02  1.980e-02 -2.040e-02  4.840e-02\n",
            "  1.070e-02 -7.170e-02  1.640e-01  5.810e-02 -8.610e-02 -2.079e-01\n",
            "  4.290e-02 -3.530e-02 -8.200e-03  4.400e-02  3.490e-02 -2.330e-02\n",
            "  2.992e-01 -4.580e-02  3.430e-02  3.840e-02 -3.700e-02 -1.103e-01\n",
            "  1.259e-01 -5.660e-02 -1.013e-01 -3.600e-03 -2.530e-02 -3.100e-03\n",
            "  1.042e-01  9.990e-02  4.050e-02  8.490e-02 -7.040e-02 -1.250e-02\n",
            " -1.114e-01  2.520e-02  1.156e-01  2.090e-01 -6.780e-02 -9.090e-02\n",
            " -6.020e-02  9.750e-02 -1.661e-01 -2.336e-01  8.270e-02 -7.920e-02\n",
            "  4.170e-02  1.392e-01 -1.186e-01  2.400e-02  3.274e-01  8.520e-02\n",
            " -1.020e-01  8.110e-02 -1.501e-01 -6.430e-02 -2.438e-01  1.080e-02\n",
            "  1.200e-02  5.760e-02  1.033e-01 -7.580e-02  3.990e-02 -5.780e-02\n",
            "  2.890e-02  6.830e-02 -2.520e-02  2.922e-01 -7.100e-03  5.280e-02\n",
            " -1.690e-02 -4.890e-02  2.060e-02 -1.750e-02 -7.220e-02  1.420e-01\n",
            "  1.353e-01 -4.310e-02 -8.850e-02 -1.289e-01 -2.750e-02  7.450e-02\n",
            " -1.094e-01 -1.800e-02 -8.950e-02  3.130e-02 -3.100e-03 -1.178e-01\n",
            "  6.150e-02  8.100e-03 -5.700e-02 -2.291e-01 -4.900e-02 -1.060e-02\n",
            "  2.920e-02  4.710e-02  4.790e-02 -5.120e-02  1.257e-01  1.431e-01\n",
            "  2.403e-01 -1.417e-01 -7.840e-02 -4.020e-02 -6.700e-03  6.550e-02\n",
            " -1.229e-01  6.410e-02  5.480e-02 -5.730e-02 -1.000e-04  7.260e-02\n",
            "  8.060e-02 -1.045e-01  5.280e-02  2.248e-01  2.559e-01 -2.100e-02]\n"
          ]
        }
      ],
      "source": [
        "print(words_vector[0][0])"
      ]
    },
    {
      "cell_type": "code",
      "execution_count": null,
      "id": "78654054",
      "metadata": {
        "id": "78654054"
      },
      "outputs": [],
      "source": [
        "import numpy as np\n",
        "doc_embedding = []\n",
        "for doc in words_vector:\n",
        "    sum_embedding = 0\n",
        "    for word in doc:\n",
        "        sum_embedding += word\n",
        "    doc_embedding.append(sum_embedding/len(doc))"
      ]
    },
    {
      "cell_type": "code",
      "execution_count": null,
      "id": "6eea3388",
      "metadata": {
        "id": "6eea3388"
      },
      "outputs": [],
      "source": [
        "np.save(\"doc_embedding.npy\",doc_embedding)"
      ]
    },
    {
      "cell_type": "markdown",
      "id": "8f760cdd",
      "metadata": {
        "id": "8f760cdd"
      },
      "source": [
        "# Get Similarity"
      ]
    },
    {
      "cell_type": "code",
      "execution_count": null,
      "id": "082e4d3a",
      "metadata": {
        "id": "082e4d3a"
      },
      "outputs": [],
      "source": [
        "def get_embedding(sentence):\n",
        "    text = preprocessing(sentence)\n",
        "    embedding_vector = []\n",
        "    for word in text:\n",
        "        if word in model.index_to_key:\n",
        "            embedding_vector.append(model[word])\n",
        "    return embedding_vector\n",
        ""
      ]
    },
    {
      "cell_type": "code",
      "execution_count": null,
      "id": "e4569d8d",
      "metadata": {
        "id": "e4569d8d"
      },
      "outputs": [],
      "source": [
        "def get_embedding_avg(vector):\n",
        "    sum_embedding = 0\n",
        "    for word in vector:\n",
        "        sum_embedding+=word\n",
        "    avg_test_vector = sum_embedding/len(test_vector)\n",
        "    return avg_test_vector"
      ]
    },
    {
      "cell_type": "code",
      "execution_count": null,
      "id": "1b2c3f41",
      "metadata": {
        "id": "1b2c3f41"
      },
      "outputs": [],
      "source": [
        "def similarity_result(emedding_vector):\n",
        "    similarity_values = []\n",
        "    for doc in doc_embedding:\n",
        "        similarity_values.append(distance.cosine(doc,emedding_vector))\n",
        "\n",
        "    sorted_search = [x for _,x in sorted(zip(similarity_values,doc_search))]\n",
        "\n",
        "    return sorted_search"
      ]
    },
    {
      "cell_type": "markdown",
      "id": "7e3a98a2",
      "metadata": {
        "id": "7e3a98a2"
      },
      "source": [
        "# Show results"
      ]
    },
    {
      "cell_type": "code",
      "execution_count": null,
      "id": "0cfd27fe",
      "metadata": {
        "id": "0cfd27fe"
      },
      "outputs": [],
      "source": [
        "sentence = \"The car industry is also facing increasing competition from the public transport sector\""
      ]
    },
    {
      "cell_type": "code",
      "execution_count": null,
      "id": "f8456268",
      "metadata": {
        "id": "f8456268"
      },
      "outputs": [],
      "source": [
        "embedding_test_vector=get_embedding(sentence)\n",
        "embedding_avg_vector=get_embedding_avg(embedding_test_vector)"
      ]
    },
    {
      "cell_type": "code",
      "execution_count": null,
      "id": "fe7ab09b",
      "metadata": {
        "id": "fe7ab09b"
      },
      "outputs": [],
      "source": [
        "results = similarity_result(embedding_avg_vector)"
      ]
    },
    {
      "cell_type": "code",
      "execution_count": null,
      "id": "69a501b0",
      "metadata": {
        "id": "69a501b0",
        "outputId": "817b2178-69b7-4ed3-c489-4301d7701e6e"
      },
      "outputs": [
        {
          "name": "stdout",
          "output_type": "stream",
          "text": [
            "['bus', 'train', 'Car', 'ship', 'volleyball', 'Multiplayer online battle arena', 'personal computer', 'laptop', 'mobile', 'football', 'xbox', 'simulation games', 'pop songs', 'basketball', 'Hip-Hop', 'sandbox games', 'Action-adventure games', 'rap', 'handball', 'folk songs']\n"
          ]
        }
      ],
      "source": [
        "print(results)"
      ]
    },
    {
      "cell_type": "code",
      "execution_count": null,
      "id": "f7be7e14",
      "metadata": {
        "id": "f7be7e14"
      },
      "outputs": [],
      "source": [
        "sentence = \"The personal computer was made possible by major advances in semiconductor technology\"\n"
      ]
    },
    {
      "cell_type": "code",
      "execution_count": null,
      "id": "d077e11b",
      "metadata": {
        "id": "d077e11b"
      },
      "outputs": [],
      "source": [
        "embedding_test_vector=get_embedding(sentence)\n",
        "embedding_avg_vector=get_embedding_avg(embedding_test_vector)"
      ]
    },
    {
      "cell_type": "code",
      "execution_count": null,
      "id": "ed28be65",
      "metadata": {
        "id": "ed28be65"
      },
      "outputs": [],
      "source": [
        "results = similarity_result(embedding_avg_vector)\n",
        ""
      ]
    },
    {
      "cell_type": "code",
      "execution_count": null,
      "id": "2cb8f85f",
      "metadata": {
        "id": "2cb8f85f",
        "outputId": "af9fc957-e112-4005-c6c8-4ee7eafe0845"
      },
      "outputs": [
        {
          "name": "stdout",
          "output_type": "stream",
          "text": [
            "['personal computer', 'laptop', 'mobile', 'xbox', 'Multiplayer online battle arena', 'simulation games', 'Car', 'train', 'bus', 'Action-adventure games', 'sandbox games', 'pop songs', 'volleyball', 'ship', 'Hip-Hop', 'basketball', 'football', 'rap', 'handball', 'folk songs']\n"
          ]
        }
      ],
      "source": [
        "print(results)"
      ]
    },
    {
      "cell_type": "code",
      "execution_count": null,
      "id": "bf37f13c",
      "metadata": {
        "id": "bf37f13c"
      },
      "outputs": [],
      "source": [
        "sentence = \"pop music is professional music which draws upon both folk music and fine arts music\""
      ]
    },
    {
      "cell_type": "code",
      "execution_count": null,
      "id": "1e376c1a",
      "metadata": {
        "id": "1e376c1a"
      },
      "outputs": [],
      "source": [
        "embedding_test_vector=get_embedding(sentence)\n",
        "embedding_avg_vector=get_embedding_avg(embedding_test_vector)"
      ]
    },
    {
      "cell_type": "code",
      "execution_count": null,
      "id": "58af924c",
      "metadata": {
        "id": "58af924c"
      },
      "outputs": [],
      "source": [
        "results = similarity_result(embedding_avg_vector)"
      ]
    },
    {
      "cell_type": "code",
      "execution_count": null,
      "id": "029d0bb8",
      "metadata": {
        "id": "029d0bb8",
        "outputId": "240e4551-c9e3-49a0-bc06-2e7d9652b44f"
      },
      "outputs": [
        {
          "name": "stdout",
          "output_type": "stream",
          "text": [
            "['pop songs', 'folk songs', 'Hip-Hop', 'rap', 'simulation games', 'volleyball', 'Action-adventure games', 'basketball', 'football', 'Multiplayer online battle arena', 'personal computer', 'bus', 'handball', 'Car', 'train', 'laptop', 'mobile', 'sandbox games', 'xbox', 'ship']\n"
          ]
        }
      ],
      "source": [
        "print(results)"
      ]
    }
  ],
  "metadata": {
    "kernelspec": {
      "display_name": "Python 3 (ipykernel)",
      "language": "python",
      "name": "python3"
    },
    "language_info": {
      "codemirror_mode": {
        "name": "ipython",
        "version": 3
      },
      "file_extension": ".py",
      "mimetype": "text/x-python",
      "name": "python",
      "nbconvert_exporter": "python",
      "pygments_lexer": "ipython3",
      "version": "3.9.13"
    },
    "colab": {
      "provenance": [],
      "include_colab_link": true
    }
  },
  "nbformat": 4,
  "nbformat_minor": 5
}